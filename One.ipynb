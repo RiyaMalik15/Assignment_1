{
 "cells": [
  {
   "cell_type": "code",
   "execution_count": 2,
   "metadata": {},
   "outputs": [
    {
     "name": "stdout",
     "output_type": "stream",
     "text": [
      "Positive [8, 9, 10, 11, 12]\n",
      "Negative [8, 9, 10, 11, 12]\n"
     ]
    }
   ],
   "source": [
    "x = [1,2,3,4,5,6,7,8,9,10,11,12,13,14,15,16]\n",
    "print(\"Positive\", x[7:12])\n",
    "print(\"Negative\", x[-9:-4])"
   ]
  },
  {
   "cell_type": "code",
   "execution_count": 6,
   "metadata": {},
   "outputs": [
    {
     "name": "stdout",
     "output_type": "stream",
     "text": [
      "Even Number [2, 4, 6, 8, 10, 12, 14, 16]\n"
     ]
    }
   ],
   "source": [
    "x = [1,2,3,4,5,6,7,8,9,10,11,12,13,14,15,16]\n",
    "print(\"Even Number\", x[1::2])"
   ]
  },
  {
   "cell_type": "code",
   "execution_count": 8,
   "metadata": {},
   "outputs": [
    {
     "name": "stdout",
     "output_type": "stream",
     "text": [
      "Every 4th Number [1, 5, 9, 13]\n"
     ]
    }
   ],
   "source": [
    "x = [1,2,3,4,5,6,7,8,9,10,11,12,13,14,15,16]\n",
    "print(\"Every 4th Number\", x[::4])"
   ]
  },
  {
   "cell_type": "code",
   "execution_count": null,
   "metadata": {},
   "outputs": [],
   "source": []
  }
 ],
 "metadata": {
  "kernelspec": {
   "display_name": "Python 3",
   "language": "python",
   "name": "python3"
  },
  "language_info": {
   "codemirror_mode": {
    "name": "ipython",
    "version": 3
   },
   "file_extension": ".py",
   "mimetype": "text/x-python",
   "name": "python",
   "nbconvert_exporter": "python",
   "pygments_lexer": "ipython3",
   "version": "3.6.5"
  }
 },
 "nbformat": 4,
 "nbformat_minor": 2
}
